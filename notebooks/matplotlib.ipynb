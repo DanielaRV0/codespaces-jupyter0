{
 "cells": [
  {
   "cell_type": "markdown",
   "metadata": {},
   "source": [
    "# ¿Qué es el error absoluto?\n",
    "\n",
    "El error absoluto se define como la disparidad entre el valor estimado y el valor genuino o ideal de una medida o cálculo.\n",
    "\n",
    "$E_{absoluto} = |V_{E} - V_{A}|$\n",
    "\n",
    "\n",
    "• Panecillo: \n",
    "\n",
    "$V_E=12.5cm$\n",
    "\n",
    "$V_A=12.6cm$\n",
    "\n",
    "• Cirugia:\n",
    "\n",
    "$V_E=0.4cm$\n",
    "\n",
    "$V_A=0.3cm$\n",
    "\n"
   ]
  },
  {
   "cell_type": "code",
   "execution_count": 17,
   "metadata": {},
   "outputs": [
    {
     "name": "stdout",
     "output_type": "stream",
     "text": [
      "El error absoluto en medición del panecillo es: 0.1\n",
      "El error absoluto en medición de la cirugia es: 0.1\n"
     ]
    }
   ],
   "source": [
    "valor_exacto_pan = 12.5\n",
    "valor_aprox_pan = 12.6\n",
    "valor_exacto_cirugia = 0.4\n",
    "valor_aprox_cirugia = 0.3\n",
    "\n",
    "error_absoluto_pan = abs(valor_exacto_pan - valor_aprox_pan)\n",
    "error_absoluto_cirugia = abs(valor_exacto_cirugia - valor_aprox_cirugia)\n",
    "\n",
    "print('El error absoluto en medición del panecillo es: {:.1f}'.format(error_absoluto_pan))\n",
    "print('El error absoluto en medición de la cirugia es: {:.1f}'.format(error_absoluto_cirugia))\n",
    "\n"
   ]
  }
 ],
 "metadata": {
  "kernelspec": {
   "display_name": "Python 3.10.4 64-bit",
   "language": "python",
   "name": "python3"
  },
  "language_info": {
   "codemirror_mode": {
    "name": "ipython",
    "version": 3
   },
   "file_extension": ".py",
   "mimetype": "text/x-python",
   "name": "python",
   "nbconvert_exporter": "python",
   "pygments_lexer": "ipython3",
   "version": "3.10.13"
  },
  "orig_nbformat": 4,
  "vscode": {
   "interpreter": {
    "hash": "3ad933181bd8a04b432d3370b9dc3b0662ad032c4dfaa4e4f1596c548f763858"
   }
  }
 },
 "nbformat": 4,
 "nbformat_minor": 2
}
